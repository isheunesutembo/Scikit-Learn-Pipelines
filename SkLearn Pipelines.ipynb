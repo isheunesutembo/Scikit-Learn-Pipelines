{
 "cells": [
  {
   "cell_type": "markdown",
   "metadata": {},
   "source": [
    "# Sklearn Pipelines"
   ]
  },
  {
   "cell_type": "markdown",
   "metadata": {},
   "source": [
    "<p>Pipelines apply a list of transforms and final estimator  </p>"
   ]
  },
  {
   "cell_type": "markdown",
   "metadata": {},
   "source": [
    "<p>Intermediate steps of pipeline must implement fit and transform methods and the final estimator only needs to implement it</p>"
   ]
  },
  {
   "cell_type": "markdown",
   "metadata": {},
   "source": [
    "<p>pipeline class allows sticking multiple processes into a single scikit-learn estimator .pipeline class has fit , predict and score just like any other estimator</p>"
   ]
  },
  {
   "cell_type": "markdown",
   "metadata": {},
   "source": [
    "<p>The step parameter for pipeline must be a tuple consisting of a name and an instance of the transformer or estimator</p>"
   ]
  },
  {
   "cell_type": "code",
   "execution_count": null,
   "metadata": {},
   "outputs": [],
   "source": []
  },
  {
   "cell_type": "code",
   "execution_count": 13,
   "metadata": {},
   "outputs": [],
   "source": [
    "from sklearn.datasets import load_iris\n",
    "from sklearn.model_selection import train_test_split\n",
    "from sklearn.preprocessing import StandardScaler\n",
    "from sklearn.decomposition import PCA\n",
    "from sklearn.pipeline import Pipeline\n",
    "from sklearn.externals import joblib\n",
    "from sklearn.linear_model import LogisticRegression\n",
    "from sklearn.ensemble import AdaBoostClassifier,GradientBoostingClassifier\n",
    "from sklearn.neighbors import KNeighborsClassifier\n",
    "from sklearn import svm\n",
    "from sklearn import tree"
   ]
  },
  {
   "cell_type": "code",
   "execution_count": 14,
   "metadata": {},
   "outputs": [],
   "source": [
    "iris=load_iris()"
   ]
  },
  {
   "cell_type": "code",
   "execution_count": 15,
   "metadata": {},
   "outputs": [],
   "source": [
    "X_train,X_test,y_train,y_test=train_test_split(iris.data,iris.target,test_size=0.2,random_state=42)"
   ]
  },
  {
   "cell_type": "code",
   "execution_count": 19,
   "metadata": {},
   "outputs": [],
   "source": [
    "pipe_lr=Pipeline([('scl',StandardScaler()),\n",
    "                 ('pca',PCA(n_components=2)),\n",
    "                 ('clf',LogisticRegression(random_state=42))])\n",
    "\n",
    "\n",
    "\n",
    "pipe_svm=Pipeline([('scl',StandardScaler()),\n",
    "                  ('pca',PCA(n_components=2)),\n",
    "                  ('clf',svm.SVC(random_state=42))])\n",
    "\n",
    "\n",
    "\n",
    "\n",
    "pipe_dt=Pipeline([('scl',StandardScaler()),\n",
    "                 ('pca',PCA(n_components=2)),\n",
    "                 ('clf',tree.DecisionTreeClassifier(random_state=42))])\n",
    "\n",
    "pipe_adaboost=Pipeline([('scl',StandardScaler()),\n",
    "                       ('pca',PCA(n_components=2)),\n",
    "                       ('clf',AdaBoostClassifier())])\n",
    "\n",
    "pipe_gradientboosting=Pipeline([('scl',StandardScaler()),\n",
    "                       ('pca',PCA(n_components=2)),\n",
    "                       ('clf',GradientBoostingClassifier())])\n",
    "\n",
    "pipe_knn=Pipeline([('scl',StandardScaler()),\n",
    "                  ('pca',PCA(n_components=2)),\n",
    "                  ('clf',KNeighborsClassifier(n_neighbors=3))])"
   ]
  },
  {
   "cell_type": "code",
   "execution_count": 20,
   "metadata": {},
   "outputs": [],
   "source": [
    "#List of pipelines for ease of iteration\n",
    "pipelines=[pipe_lr,pipe_svm,pipe_dt,pipe_adaboost,pipe_gradientboosting,pipe_knn]"
   ]
  },
  {
   "cell_type": "code",
   "execution_count": 21,
   "metadata": {},
   "outputs": [],
   "source": [
    "#Dictionery of pipelines and classifier types for ease of reference\n",
    "pipe_dict={0:'LogisticRegression',1:'Support Vector Machine',2:'Decision tree',3:'AdaBoostClassifier',4:'GradientBoosting',5:'KNearestNeighbors'}"
   ]
  },
  {
   "cell_type": "code",
   "execution_count": 22,
   "metadata": {},
   "outputs": [
    {
     "name": "stderr",
     "output_type": "stream",
     "text": [
      "C:\\Users\\isheunesu\\Anaconda3\\lib\\site-packages\\sklearn\\linear_model\\logistic.py:432: FutureWarning: Default solver will be changed to 'lbfgs' in 0.22. Specify a solver to silence this warning.\n",
      "  FutureWarning)\n",
      "C:\\Users\\isheunesu\\Anaconda3\\lib\\site-packages\\sklearn\\linear_model\\logistic.py:469: FutureWarning: Default multi_class will be changed to 'auto' in 0.22. Specify the multi_class option to silence this warning.\n",
      "  \"this warning.\", FutureWarning)\n",
      "C:\\Users\\isheunesu\\Anaconda3\\lib\\site-packages\\sklearn\\svm\\base.py:193: FutureWarning: The default value of gamma will change from 'auto' to 'scale' in version 0.22 to account better for unscaled features. Set gamma explicitly to 'auto' or 'scale' to avoid this warning.\n",
      "  \"avoid this warning.\", FutureWarning)\n"
     ]
    }
   ],
   "source": [
    "#fit the pipelines\n",
    "for pipe in pipelines:\n",
    "    pipe.fit(X_train,y_train)"
   ]
  },
  {
   "cell_type": "code",
   "execution_count": 23,
   "metadata": {},
   "outputs": [
    {
     "name": "stdout",
     "output_type": "stream",
     "text": [
      "LogisticRegression pipeline test accuracy: 0.933\n",
      "Support Vector Machine pipeline test accuracy: 0.900\n",
      "Decision tree pipeline test accuracy: 0.867\n",
      "AdaBoostClassifier pipeline test accuracy: 0.600\n",
      "GradientBoosting pipeline test accuracy: 0.867\n",
      "KNearestNeighbors pipeline test accuracy: 0.933\n"
     ]
    }
   ],
   "source": [
    "#compare accuracies\n",
    "for idx,val in enumerate(pipelines):\n",
    "    print('%s pipeline test accuracy: %.3f' %(pipe_dict[idx],val.score(X_test,y_test)))"
   ]
  },
  {
   "cell_type": "code",
   "execution_count": 24,
   "metadata": {},
   "outputs": [
    {
     "name": "stdout",
     "output_type": "stream",
     "text": [
      "Classifier with best accuracy:LogisticRegression\n",
      "Saved LogisticRegression pipeline to file\n"
     ]
    }
   ],
   "source": [
    "#identify the most accurate model on test data\n",
    "best_acc=0.0\n",
    "best_clf=0.0\n",
    "best_pipe=''\n",
    "\n",
    "for idx , val in enumerate(pipelines):\n",
    "    if val.score(X_test,y_test)>best_acc:\n",
    "        best_acc=val.score(X_test,y_test)\n",
    "        best_pipe=val\n",
    "        best_clf=idx\n",
    "print('Classifier with best accuracy:%s'%pipe_dict[best_clf])\n",
    "\n",
    "#save pipeline to file\n",
    "joblib.dump(best_pipe,'best_pipeline.pkl',compress=1)\n",
    "print('Saved %s pipeline to file'% pipe_dict[best_clf])"
   ]
  },
  {
   "cell_type": "code",
   "execution_count": null,
   "metadata": {},
   "outputs": [],
   "source": []
  }
 ],
 "metadata": {
  "kernelspec": {
   "display_name": "Python 3",
   "language": "python",
   "name": "python3"
  },
  "language_info": {
   "codemirror_mode": {
    "name": "ipython",
    "version": 3
   },
   "file_extension": ".py",
   "mimetype": "text/x-python",
   "name": "python",
   "nbconvert_exporter": "python",
   "pygments_lexer": "ipython3",
   "version": "3.7.3"
  }
 },
 "nbformat": 4,
 "nbformat_minor": 2
}
